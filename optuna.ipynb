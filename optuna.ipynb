{
 "cells": [
  {
   "cell_type": "code",
   "execution_count": null,
   "id": "initial_id",
   "metadata": {
    "collapsed": true
   },
   "outputs": [],
   "source": "import optuna"
  },
  {
   "metadata": {},
   "cell_type": "code",
   "outputs": [],
   "execution_count": null,
   "source": [
    "def create_model(trial):\n",
    "    # Suggest hyperparameters\n",
    "    filters_layer_1 = trial.suggest_int('filters_layer_1', 16, 64, step=16)\n",
    "    filters_layer_2 = trial.suggest_int('filters_layer_2', 32, 128, step=32)\n",
    "    units_dense_1 = trial.suggest_int('units_dense_1', 64, 256, step=64)\n",
    "    units_dense_2 = trial.suggest_int('units_dense_2', 16, 128, step=16)\n",
    "    dropout_rate = trial.suggest_float('dropout_rate', 0.3, 0.7)\n",
    "    optimizer = trial.suggest_categorical('optimizer', ['adam', 'sgd', 'rmsprop'])\n",
    "    batch_size = trial.suggest_categorical('batch_size', [16, 32, 64])\n",
    "\n",
    "    # Build model\n",
    "    model = keras.Sequential([\n",
    "        layers.Conv2D(filters_layer_1, kernel_size=(3, 3), activation='relu', input_shape=(28, 28, 1)),\n",
    "        layers.MaxPooling2D(pool_size=(2, 2)),\n",
    "        layers.Conv2D(filters_layer_2, kernel_size=(3, 3), activation='relu'),\n",
    "        layers.MaxPooling2D(pool_size=(2, 2)),\n",
    "        layers.Flatten(),\n",
    "        layers.Dense(units_dense_1, activation='relu'),\n",
    "        layers.Dropout(dropout_rate),\n",
    "        layers.Dense(units_dense_2, activation='softmax')\n",
    "    ])\n",
    "\n",
    "    model.compile(optimizer=optimizer, loss='sparse_categorical_crossentropy', metrics=['accuracy'])\n",
    "\n",
    "    # Train the model\n",
    "    history = model.fit(X, y, validation_split=0.2, batch_size=batch_size, epochs=5, verbose=10)\n",
    "\n",
    "    # Return the best validation accuracy\n",
    "    val_accuracy = max(history.history['val_accuracy'])\n",
    "    return val_accuracy"
   ],
   "id": "82dd7610ac48f0df"
  },
  {
   "metadata": {},
   "cell_type": "code",
   "outputs": [],
   "execution_count": null,
   "source": [
    "# Create a study\n",
    "study = optuna.create_study(direction='maximize')  # We want to maximize validation accuracy\n",
    "study.optimize(create_model, n_trials=50)  # Perform 50 trials\n",
    "\n",
    "# Print the best hyperparameters and score\n",
    "print(\"Best Hyperparameters: \", study.best_params)\n",
    "print(\"Best Validation Accuracy: \", study.best_value)"
   ],
   "id": "6bc3c1f8e4102395"
  }
 ],
 "metadata": {
  "kernelspec": {
   "display_name": "Python 3",
   "language": "python",
   "name": "python3"
  },
  "language_info": {
   "codemirror_mode": {
    "name": "ipython",
    "version": 2
   },
   "file_extension": ".py",
   "mimetype": "text/x-python",
   "name": "python",
   "nbconvert_exporter": "python",
   "pygments_lexer": "ipython2",
   "version": "2.7.6"
  }
 },
 "nbformat": 4,
 "nbformat_minor": 5
}
