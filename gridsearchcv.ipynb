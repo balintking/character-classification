{
 "cells": [
  {
   "metadata": {},
   "cell_type": "code",
   "outputs": [],
   "execution_count": null,
   "source": [
    "def create_model(optimizer='adam', dropout_rate=0.5):\n",
    "\n",
    "    model = keras.Sequential([\n",
    "        layers.Conv2D(32, kernel_size=(3, 3), activation='relu', input_shape=(28, 28, 1)),\n",
    "        layers.MaxPooling2D(pool_size=(2, 2)),\n",
    "\n",
    "        layers.Conv2D(64, kernel_size=(3, 3), activation='relu'),\n",
    "        layers.MaxPooling2D(pool_size=(2, 2)),\n",
    "\n",
    "        layers.Flatten(),\n",
    "        layers.Dense(128, activation='relu'),\n",
    "        layers.Dropout(dropout_rate),\n",
    "        layers.Dense(62, activation='softmax')\n",
    "\n",
    "    ])\n",
    "\n",
    "    model.compile(optimizer=optimizer, loss='sparse_categorical_crossentropy', metrics=['accuracy'])\n",
    "    return model"
   ],
   "id": "e17fe3a6028d6410"
  },
  {
   "metadata": {},
   "cell_type": "code",
   "outputs": [],
   "execution_count": null,
   "source": [
    "model = KerasClassifier(model=create_model, model__optimizer='adam', model__dropout_rate=0.5, epochs=10, batch_size=64, verbose=True)\n",
    "\n",
    "param_grid = {\n",
    "    'model__optimizer': ['adam', 'sgd', 'rmsprop'],\n",
    "    'model__dropout_rate': [0.3, 0.5, 0.7],\n",
    "    'batch_size': [32, 64, 128]\n",
    "}\n",
    "\n",
    "grid = GridSearchCV(estimator=model, param_grid=param_grid, cv=4, verbose=10)"
   ],
   "id": "94ba06666dd57e06"
  },
  {
   "metadata": {},
   "cell_type": "code",
   "outputs": [],
   "execution_count": null,
   "source": "grid_result = grid.fit(X, y)",
   "id": "f821e957f935ad9e"
  },
  {
   "metadata": {},
   "cell_type": "code",
   "outputs": [],
   "execution_count": null,
   "source": " print(f\"Best: {grid_result.best_score_} using {grid_result.best_params_}\")",
   "id": "c4bc0e886b20d836"
  },
  {
   "metadata": {},
   "cell_type": "code",
   "outputs": [],
   "execution_count": null,
   "source": [
    "import seaborn as sns\n",
    "\n",
    "# Convert results to DataFrame\n",
    "results = pd.DataFrame(grid.cv_results_)\n",
    "\n",
    "# Extract relevant data\n",
    "results = results[['param_model__dropout_rate', 'param_batch_size', 'mean_test_score']]\n",
    "results['param_model__dropout_rate'] = results['param_model__dropout_rate'].astype(float)\n",
    "results['param_batch_size'] = results['param_batch_size'].astype(int)\n",
    "\n",
    "# Pivot table for heatmap\n",
    "pivot_table = results.pivot(index=\"param_model__dropout_rate\",\n",
    "                            columns=\"param_batch_size\",\n",
    "                            values=\"mean_test_score\")\n",
    "\n",
    "# Plot heatmap\n",
    "plt.figure(figsize=(10, 6))\n",
    "sns.heatmap(pivot_table, annot=True, fmt=\".4f\", cmap=\"viridis\", cbar_kws={'label': 'Mean Test Score'})\n",
    "plt.title(\"GridSearchCV Results\")\n",
    "plt.xlabel(\"Batch Size\")\n",
    "plt.ylabel(\"Dropout Rate\")\n",
    "plt.show()"
   ],
   "id": "8cab606cd4f3e3c2"
  }
 ],
 "metadata": {
  "kernelspec": {
   "display_name": "Python 3",
   "language": "python",
   "name": "python3"
  },
  "language_info": {
   "codemirror_mode": {
    "name": "ipython",
    "version": 2
   },
   "file_extension": ".py",
   "mimetype": "text/x-python",
   "name": "python",
   "nbconvert_exporter": "python",
   "pygments_lexer": "ipython2",
   "version": "2.7.6"
  }
 },
 "nbformat": 4,
 "nbformat_minor": 5
}
